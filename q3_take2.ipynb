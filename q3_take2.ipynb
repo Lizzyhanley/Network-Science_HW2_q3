{
 "cells": [
  {
   "cell_type": "markdown",
   "metadata": {},
   "source": [
    "\n",
    "Please check the instruction again on how to read Edge List and construct a DIRECTED graph.\n",
    "The default one is UNDIRECTED graph.\n",
    "You have to use add \"create_using=nx.DiGraph\" for NetworkX to construct a directed one.\n",
    "\n",
    "Instead of adjacency matrix, we will use Edge List as the input:\n",
    "https://networkx.github.io/documentation/stable/reference/readwrite/edgelist.html\n",
    "\n"
   ]
  },
  {
   "cell_type": "code",
   "execution_count": 19,
   "metadata": {},
   "outputs": [],
   "source": [
    "import networkx as nx\n",
    "import time"
   ]
  },
  {
   "cell_type": "code",
   "execution_count": 20,
   "metadata": {},
   "outputs": [],
   "source": [
    "G = nx.Graph()\n",
    "G = nx.read_edgelist(\"inputfile.edgelist\", create_using=nx.DiGraph())"
   ]
  },
  {
   "cell_type": "code",
   "execution_count": 21,
   "metadata": {},
   "outputs": [
    {
     "ename": "NameError",
     "evalue": "name 'plt' is not defined",
     "output_type": "error",
     "traceback": [
      "\u001b[0;31m---------------------------------------------------------------------------\u001b[0m",
      "\u001b[0;31mNameError\u001b[0m                                 Traceback (most recent call last)",
      "\u001b[0;32m<ipython-input-21-c56dc1e8f353>\u001b[0m in \u001b[0;36m<module>\u001b[0;34m\u001b[0m\n\u001b[1;32m      1\u001b[0m \u001b[0mnx\u001b[0m\u001b[0;34m.\u001b[0m\u001b[0mdraw\u001b[0m\u001b[0;34m(\u001b[0m\u001b[0mG\u001b[0m\u001b[0;34m,\u001b[0m \u001b[0mwith_labels\u001b[0m\u001b[0;34m=\u001b[0m\u001b[0;32mTrue\u001b[0m\u001b[0;34m,\u001b[0m \u001b[0mnode_size\u001b[0m\u001b[0;34m=\u001b[0m\u001b[0;36m700\u001b[0m\u001b[0;34m,\u001b[0m \u001b[0mfront_size\u001b[0m\u001b[0;34m=\u001b[0m\u001b[0;36m12\u001b[0m\u001b[0;34m)\u001b[0m\u001b[0;34m\u001b[0m\u001b[0;34m\u001b[0m\u001b[0m\n\u001b[0;32m----> 2\u001b[0;31m \u001b[0mplt\u001b[0m\u001b[0;34m.\u001b[0m\u001b[0mshow\u001b[0m\u001b[0;34m(\u001b[0m\u001b[0;34m)\u001b[0m\u001b[0;34m\u001b[0m\u001b[0;34m\u001b[0m\u001b[0m\n\u001b[0m",
      "\u001b[0;31mNameError\u001b[0m: name 'plt' is not defined"
     ]
    },
    {
     "data": {
      "image/png": "[encoded data removed]",
      "text/plain": [
       "<Figure size 432x288 with 1 Axes>"
      ]
     },
     "metadata": {},
     "output_type": "display_data"
    }
   ],
   "source": [
    "nx.draw(G, with_labels=True, node_size=700, front_size=12)\n",
    "plt.show()"
   ]
  },
  {
   "cell_type": "markdown",
   "metadata": {},
   "source": [
    "Implement the BFS we learned in class (Note1). In your code, you need to add\n",
    "comments to indicate which line of your code corresponds to a particular line of\n",
    "pseudo-code presented in Note1."
   ]
  },
  {
   "cell_type": "code",
   "execution_count": 25,
   "metadata": {},
   "outputs": [],
   "source": [
    "def bfs(G, u):\n",
    "    visted = [] # line1: array Visted[1...n] \n",
    "    #Becuase visited this is empty,it also covers # line2: Initialize: Set visted[i] = FALSE for 1 <= i <= n\n",
    "    toExplore=[] #line3: List: ToExplore, S\n",
    "    s = [] #line3: List: ToExplore, S\n",
    "    toExplore.append(u) #line4: Add u to ToExplore and to S, Visted[u]=True\n",
    "    s.append(u) #line4: Add u to ToExplore and to S, Visted[u]=True\n",
    "    visted.append(u) #line4: Add u to ToExplore and to S, Visted[u]=True\n",
    "    #line5: Make tree T with root as u\n",
    "    while toExplore: \n",
    "        x = toExplore.pop(0) #line7: Remove node x from ToExplore\n",
    "        for y in G[x]: #line8: for each edge (x,y) in Adj(x) do\n",
    "            if y not in visted: #line9: if (Visted[y] == False)\n",
    "                visted.append(y)\n",
    "                toExplore.append(y)\n",
    "                s.append(y)\n",
    "    return s\n",
    "            "
   ]
  },
  {
   "cell_type": "markdown",
   "metadata": {},
   "source": [
    "The build_residual_network method is code directly taken from documentation: https://networkx.github.io/documentation/networkx-1.10/_modules/networkx/algorithms/flow/utils.html#build_residual_network\n",
    "\n",
    "We used this as a guide for writing out own code to build a residual network, but did not call this function."
   ]
  },
  {
   "cell_type": "code",
   "execution_count": null,
   "metadata": {},
   "outputs": [],
   "source": [
    "def build_residual_network(G, weight):\n",
    "    \"\"\"Build a residual network and initialize a zero flow.\n",
    "\n",
    "    The residual network :samp:`R` from an input graph :samp:`G` has the\n",
    "    same nodes as :samp:`G`. :samp:`R` is a DiGraph that contains a pair\n",
    "    of edges :samp:`(u, v)` and :samp:`(v, u)` iff :samp:`(u, v)` is not a\n",
    "    self-loop, and at least one of :samp:`(u, v)` and :samp:`(v, u)` exists\n",
    "    in :samp:`G`.\n",
    "\n",
    "    For each edge :samp:`(u, v)` in :samp:`R`, :samp:`R[u][v]['capacity']`\n",
    "    is equal to the capacity of :samp:`(u, v)` in :samp:`G` if it exists\n",
    "    in :samp:`G` or zero otherwise. If the capacity is infinite,\n",
    "    :samp:`R[u][v]['capacity']` will have a high arbitrary finite value\n",
    "    that does not affect the solution of the problem. This value is stored in\n",
    "    :samp:`R.graph['inf']`. For each edge :samp:`(u, v)` in :samp:`R`,\n",
    "    :samp:`R[u][v]['flow']` represents the flow function of :samp:`(u, v)` and\n",
    "    satisfies :samp:`R[u][v]['flow'] == -R[v][u]['flow']`.\n",
    "\n",
    "    The flow value, defined as the total flow into :samp:`t`, the sink, is\n",
    "    stored in :samp:`R.graph['flow_value']`. If :samp:`cutoff` is not\n",
    "    specified, reachability to :samp:`t` using only edges :samp:`(u, v)` such\n",
    "    that :samp:`R[u][v]['flow'] < R[u][v]['capacity']` induces a minimum\n",
    "    :samp:`s`-:samp:`t` cut.\n",
    "\n",
    "    \"\"\"\n",
    "    capacity = 'weight'\n",
    "    if G.is_multigraph():\n",
    "        raise nx.NetworkXError(\n",
    "            'MultiGraph and MultiDiGraph not supported (yet).')\n",
    "\n",
    "    R = nx.DiGraph()\n",
    "    R.add_nodes_from(G)\n",
    "\n",
    "    inf = float('inf')\n",
    "    # Extract edges with positive capacities. Self loops excluded.\n",
    "    edge_list = [(u, v, attr) for u, v, attr in G.edges_iter(data=True)\n",
    "                 if u != v and attr.get(capacity, inf) > 0]\n",
    "    # Simulate infinity with three times the sum of the finite edge capacities\n",
    "    # or any positive value if the sum is zero. This allows the\n",
    "    # infinite-capacity edges to be distinguished for unboundedness detection\n",
    "    # and directly participate in residual capacity calculation. If the maximum\n",
    "    # flow is finite, these edges cannot appear in the minimum cut and thus\n",
    "    # guarantee correctness. Since the residual capacity of an\n",
    "    # infinite-capacity edge is always at least 2/3 of inf, while that of an\n",
    "    # finite-capacity edge is at most 1/3 of inf, if an operation moves more\n",
    "    # than 1/3 of inf units of flow to t, there must be an infinite-capacity\n",
    "    # s-t path in G.\n",
    "    inf = 3 * sum(attr[capacity] for u, v, attr in edge_list\n",
    "                  if capacity in attr and attr[capacity] != inf) or 1\n",
    "    if G.is_directed():\n",
    "        for u, v, attr in edge_list:\n",
    "            r = min(attr.get(capacity, inf), inf)\n",
    "            if not R.has_edge(u, v):\n",
    "                # Both (u, v) and (v, u) must be present in the residual\n",
    "                # network.\n",
    "                R.add_edge(u, v, capacity=r)\n",
    "                R.add_edge(v, u, capacity=0)\n",
    "            else:\n",
    "                # The edge (u, v) was added when (v, u) was visited.\n",
    "                R[u][v]['capacity'] = r\n",
    "    else:\n",
    "        for u, v, attr in edge_list:\n",
    "            # Add a pair of edges with equal residual capacities.\n",
    "            r = min(attr.get(capacity, inf), inf)\n",
    "            R.add_edge(u, v, capacity=r)\n",
    "            R.add_edge(v, u, capacity=r)\n",
    "\n",
    "    # Record the value simulating infinity.\n",
    "    R.graph['inf'] = inf\n",
    "\n",
    "    return R"
   ]
  },
  {
   "cell_type": "markdown",
   "metadata": {},
   "source": [
    "Implement the iterative version of the Ford-Fulkerson algorithm presented in class. In\n",
    "your code, you need to add comments to indicate which line of your code corresponds\n",
    "to a particular line of pseudo-code presented in Note3. In your algorithm, use BFS\n",
    "implemented in the previous step to find the path in each iteration."
   ]
  },
  {
   "cell_type": "code",
   "execution_count": 47,
   "metadata": {},
   "outputs": [],
   "source": [
    "def iterativeFF_bfs(G, s, t):\n",
    "    #line1: Start with flow f that is 0 on all edges\n",
    "    f=0\n",
    "    #Gf= nx.build_residual_network(G, capacity)\n",
    "    Gf=G.copy()\n",
    "    path = bfs(Gf,s)\n",
    "    f_p = float('inf')\n",
    "    while len(path)>0: #line2: while there is a flow f' in Gf with v(f') > 0 do\n",
    "        #each time you augment flow\n",
    "        #fwd add flow going and bkwd edge subtract\n",
    "        #find f'\n",
    "        for i in range(len(path) - 1):\n",
    "            u = path[i]\n",
    "            v = path[i+1]\n",
    "            weight = Gf[u][v]['weight']\n",
    "            f_p = min(f_p, weight)\n",
    "            \n",
    "        #line4: Update Gf\n",
    "        for i in range(len(path) - 1):\n",
    "            u = path[i]\n",
    "            v = path[i+1]\n",
    "            \n",
    "            #Create a backward edge \n",
    "            if not Gf.has_edge(v, u):\n",
    "                Gf.add_edge(v, u, weight=0)\n",
    "            old = Gf[v][u]['weight']\n",
    "            Gf[v][u]['weight'] = old + f_p\n",
    "            #Create a forward edge \n",
    "            old = Gf[u][v]['weight']\n",
    "            Gf[u][v]['weight'] = old - f_p\n",
    "            if old == f_p:\n",
    "                Gf.remove_edge(u, v)\n",
    "        f = f + f_p #line3: f = f + f'\n",
    "\n",
    "        try:\n",
    "            path = bfs(Gf, s)\n",
    "        except nx.NetworkXNoPath:\n",
    "            path = []\n",
    "    return f #line5: Output f"
   ]
  },
  {
   "cell_type": "markdown",
   "metadata": {},
   "source": [
    "Implement a new version of the max-flow algorithm which replaces BFS by Dijkstra’s\n",
    "algorithm. You do NOT need to implement Dijkstra. You can directly use NetworkX’s\n",
    "library."
   ]
  },
  {
   "cell_type": "code",
   "execution_count": 51,
   "metadata": {},
   "outputs": [],
   "source": [
    "def iterativeFF_dijkstra(G, s, t):\n",
    "    #line1: Start with flow f that is 0 on all edges\n",
    "    f=0\n",
    "    #Gf= nx.build_residual_network(G, capacity) (\n",
    "    Gf=G.copy()\n",
    "    path = nx.dijkstra_path(Gf,s)\n",
    "    f_p = float('inf')\n",
    "    while len(path)>0: #line2: while there is a flow f' in Gf with v(f') > 0 do\n",
    "        #find f'\n",
    "        for i in range(len(path) - 1):\n",
    "            u = path[i]\n",
    "            v = path[i+1]\n",
    "            weight = Gf[u][v]['weight']\n",
    "            f_p = min(f_p, weight)\n",
    "            \n",
    "        #line4: Update Gf\n",
    "        for i in range(len(path) - 1):\n",
    "            u = path[i]\n",
    "            v = path[i+1]\n",
    "            \n",
    "            #Create a backward edge \n",
    "            if not Gf.has_edge(v, u):\n",
    "                Gf.add_edge(v, u, weight=0)\n",
    "            old = Gf[v][u]['weight']\n",
    "            Gf[v][u]['weight'] = old + f_p\n",
    "            #Create a forward edge \n",
    "            old = Gf[u][v]['weight']\n",
    "            Gf[u][v]['weight'] = old - f_p\n",
    "            if old == f_p:\n",
    "                Gf.remove_edge(u, v)\n",
    "        f = f + f_p #line3: f = f + f'\n",
    "\n",
    "        try:\n",
    "            path = nx.dijkstra_path(Gf, s)\n",
    "        except nx.NetworkXNoPath:\n",
    "            path = []\n",
    "    return f #line5: Output f"
   ]
  },
  {
   "cell_type": "markdown",
   "metadata": {},
   "source": [
    "Compare the performance between Ford-Fulkerson + BFS and Ford-Fulkerson +\n",
    "Dijkstra. Make sure you conduct comprehensive evaluation (e.g., run two algorithms\n",
    "on a large enough number of random graphs) and present data and your conclusion\n",
    "clearly and precisely."
   ]
  },
  {
   "cell_type": "code",
   "execution_count": 53,
   "metadata": {},
   "outputs": [],
   "source": [
    "def compareTime(G, s, t):\n",
    "    t1_bfs=time.time()\n",
    "    iterativeFF_bfs(G, s, t)\n",
    "    t2_bfs=time.time()\n",
    "    runtime_bfs= t2_bfs - t1_bfs\n",
    "    print(\"The runtime of iterative ford fulkerson with bfs is: \", runtime_bfs)\n",
    "    \n",
    "    t1_dijkstra=time.time()\n",
    "    iterativeFF_dijkstra(G, s, t)\n",
    "    t2_dijkstra=time.time()\n",
    "    runtime_dijkstra= t2_dijkstra - t1_dijkstra\n",
    "    print(\"The runtime of iterative ford fulkerson with dijkstra is: \", runtime_dijkstra)\n",
    "    \n",
    "    if runtime_bfs > runtime_dijkstra:\n",
    "        print(\"dijkstra's is faster by: \", abs(runtime_dijkstra-runtime_bfs))\n",
    "    else:\n",
    "        print(\"bfs is faster by: \", abs(runtime_dijkstra-runtime_bfs))\n",
    "    \n",
    "    "
   ]
  },
  {
   "cell_type": "markdown",
   "metadata": {},
   "source": [
    "## We were unable to get our two ford fulkerson algs to run, so we couldn't test the run times. This is the code we would use to test our algs (if they worked)!"
   ]
  },
  {
   "cell_type": "code",
   "execution_count": 52,
   "metadata": {},
   "outputs": [
    {
     "data": {
      "text/plain": [
       "2"
      ]
     },
     "execution_count": 52,
     "metadata": {},
     "output_type": "execute_result"
    }
   ],
   "source": []
  },
  {
   "cell_type": "code",
   "execution_count": null,
   "metadata": {},
   "outputs": [],
   "source": []
  },
  {
   "cell_type": "code",
   "execution_count": null,
   "metadata": {},
   "outputs": [],
   "source": []
  }
 ],
 "metadata": {
  "kernelspec": {
   "display_name": "Python 3",
   "language": "python",
   "name": "python3"
  },
  "language_info": {
   "codemirror_mode": {
    "name": "ipython",
    "version": 3
   },
   "file_extension": ".py",
   "mimetype": "text/x-python",
   "name": "python",
   "nbconvert_exporter": "python",
   "pygments_lexer": "ipython3",
   "version": "3.7.1"
  }
 },
 "nbformat": 4,
 "nbformat_minor": 2
}
